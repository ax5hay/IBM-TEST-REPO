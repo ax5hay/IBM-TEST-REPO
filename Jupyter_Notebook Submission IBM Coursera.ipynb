{
 "cells": [
  {
   "cell_type": "markdown",
   "metadata": {},
   "source": [
    "<center>\n",
    "    <img src=\"https://s3-api.us-geo.objectstorage.softlayer.net/cf-courses-data/CognitiveClass/Logos/organization_logo/organization_logo.png\" width=\"300\" alt=\"cognitiveclass.ai logo\"  />\n",
    "</center>\n"
   ]
  },
  {
   "cell_type": "markdown",
   "metadata": {},
   "source": [
    "#### Add your code below following the instructions given in the course\n"
   ]
  },
  {
   "cell_type": "markdown",
   "metadata": {},
   "source": [
    "# My Jupyter Notebook on IBM Watson Studio"
   ]
  },
  {
   "cell_type": "markdown",
   "metadata": {},
   "source": [
    "**Akshay Bajpai**\n",
    "\n",
    "\n",
    "Data Scientist"
   ]
  },
  {
   "cell_type": "markdown",
   "metadata": {},
   "source": [
    "*I am interested in data science because working with huge quantities of data has always enticed me during both, my master's and bachelor's degree. The financial benefits are a plus*"
   ]
  },
  {
   "cell_type": "markdown",
   "metadata": {},
   "source": [
    "### The code in the next cell will print a simple \"hello fellow learner i hope you have a great day today\""
   ]
  },
  {
   "cell_type": "code",
   "execution_count": 12,
   "metadata": {},
   "outputs": [
    {
     "name": "stdout",
     "output_type": "stream",
     "text": [
      "hello fellow learner i hope you have a great day today\n"
     ]
    }
   ],
   "source": [
    "print(\"hello fellow learner i hope you have a great day today\")"
   ]
  },
  {
   "cell_type": "markdown",
   "metadata": {},
   "source": [
    "Example for Horizontal Rule :\n",
    "\n",
    "---\n",
    "\n",
    "Example of Bulleted List:\n",
    "\n",
    "<ul>\n",
    "    <li>Hello</li>\n",
    "    <li>Fellow</li>\n",
    "    <li>Learner</li>\n",
    "</ul>\n",
    "\n",
    "Example of Numbered List:\n",
    "\n",
    "<ol>\n",
    "    <li>This works</li>\n",
    "    <li>like HTML</li>\n",
    "</ol>\n",
    "\n",
    "Example of Strikethrough :\n",
    "\n",
    "~~Striked~~\n",
    "\n",
    "    "
   ]
  }
 ],
 "metadata": {
  "kernelspec": {
   "display_name": "Python",
   "language": "python",
   "name": "conda-env-python-py"
  },
  "language_info": {
   "codemirror_mode": {
    "name": "ipython",
    "version": 3
   },
   "file_extension": ".py",
   "mimetype": "text/x-python",
   "name": "python",
   "nbconvert_exporter": "python",
   "pygments_lexer": "ipython3",
   "version": "3.7.12"
  }
 },
 "nbformat": 4,
 "nbformat_minor": 4
}
